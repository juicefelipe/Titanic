{
 "cells": [
  {
   "cell_type": "code",
   "execution_count": 1,
   "metadata": {
    "_cell_guid": "b1076dfc-b9ad-4769-8c92-a6c4dae69d19",
    "_uuid": "8f2839f25d086af736a60e9eeb907d3b93b6e0e5"
   },
   "outputs": [
    {
     "name": "stdout",
     "output_type": "stream",
     "text": [
      "/kaggle/input/titanic/train.csv\n",
      "/kaggle/input/titanic/gender_submission.csv\n",
      "/kaggle/input/titanic/test.csv\n"
     ]
    }
   ],
   "source": [
    "# This Python 3 environment comes with many helpful analytics libraries installed\n",
    "# It is defined by the kaggle/python docker image: https://github.com/kaggle/docker-python\n",
    "# For example, here's several helpful packages to load in \n",
    "\n",
    "import numpy as np # linear algebra\n",
    "import pandas as pd # data processing, CSV file I/O (e.g. pd.read_csv)\n",
    "\n",
    "# Input data files are available in the \"../input/\" directory.\n",
    "# For example, running this (by clicking run or pressing Shift+Enter) will list all files under the input directory\n",
    "\n",
    "import os\n",
    "for dirname, _, filenames in os.walk('/kaggle/input'):\n",
    "    for filename in filenames:\n",
    "        print(os.path.join(dirname, filename))\n",
    "\n",
    "# Any results you write to the current directory are saved as output."
   ]
  },
  {
   "cell_type": "code",
   "execution_count": 2,
   "metadata": {
    "_cell_guid": "79c7e3d0-c299-4dcb-8224-4455121ee9b0",
    "_uuid": "d629ff2d2480ee46fbb7e2d37f6b5fab8052498a"
   },
   "outputs": [],
   "source": [
    "train_data = pd.read_csv('/kaggle/input/titanic/train.csv')"
   ]
  },
  {
   "cell_type": "code",
   "execution_count": 3,
   "metadata": {},
   "outputs": [],
   "source": [
    "test_data = pd.read_csv(\"/kaggle/input/titanic/test.csv\")"
   ]
  },
  {
   "cell_type": "markdown",
   "metadata": {},
   "source": [
    "In this version I will model closely an example done by KG, particularly in his tutorial part 3 with feature engineering."
   ]
  },
  {
   "cell_type": "code",
   "execution_count": 4,
   "metadata": {},
   "outputs": [
    {
     "data": {
      "text/html": [
       "<div>\n",
       "<style scoped>\n",
       "    .dataframe tbody tr th:only-of-type {\n",
       "        vertical-align: middle;\n",
       "    }\n",
       "\n",
       "    .dataframe tbody tr th {\n",
       "        vertical-align: top;\n",
       "    }\n",
       "\n",
       "    .dataframe thead th {\n",
       "        text-align: right;\n",
       "    }\n",
       "</style>\n",
       "<table border=\"1\" class=\"dataframe\">\n",
       "  <thead>\n",
       "    <tr style=\"text-align: right;\">\n",
       "      <th></th>\n",
       "      <th>Age</th>\n",
       "      <th>Cabin</th>\n",
       "      <th>Embarked</th>\n",
       "      <th>Fare</th>\n",
       "      <th>Name</th>\n",
       "      <th>Parch</th>\n",
       "      <th>PassengerId</th>\n",
       "      <th>Pclass</th>\n",
       "      <th>Sex</th>\n",
       "      <th>SibSp</th>\n",
       "      <th>Survived</th>\n",
       "      <th>Ticket</th>\n",
       "    </tr>\n",
       "  </thead>\n",
       "  <tbody>\n",
       "    <tr>\n",
       "      <th>0</th>\n",
       "      <td>22.0</td>\n",
       "      <td>NaN</td>\n",
       "      <td>S</td>\n",
       "      <td>7.2500</td>\n",
       "      <td>Braund, Mr. Owen Harris</td>\n",
       "      <td>0</td>\n",
       "      <td>1</td>\n",
       "      <td>3</td>\n",
       "      <td>male</td>\n",
       "      <td>1</td>\n",
       "      <td>0.0</td>\n",
       "      <td>A/5 21171</td>\n",
       "    </tr>\n",
       "    <tr>\n",
       "      <th>1</th>\n",
       "      <td>38.0</td>\n",
       "      <td>C85</td>\n",
       "      <td>C</td>\n",
       "      <td>71.2833</td>\n",
       "      <td>Cumings, Mrs. John Bradley (Florence Briggs Th...</td>\n",
       "      <td>0</td>\n",
       "      <td>2</td>\n",
       "      <td>1</td>\n",
       "      <td>female</td>\n",
       "      <td>1</td>\n",
       "      <td>1.0</td>\n",
       "      <td>PC 17599</td>\n",
       "    </tr>\n",
       "    <tr>\n",
       "      <th>2</th>\n",
       "      <td>26.0</td>\n",
       "      <td>NaN</td>\n",
       "      <td>S</td>\n",
       "      <td>7.9250</td>\n",
       "      <td>Heikkinen, Miss. Laina</td>\n",
       "      <td>0</td>\n",
       "      <td>3</td>\n",
       "      <td>3</td>\n",
       "      <td>female</td>\n",
       "      <td>0</td>\n",
       "      <td>1.0</td>\n",
       "      <td>STON/O2. 3101282</td>\n",
       "    </tr>\n",
       "    <tr>\n",
       "      <th>3</th>\n",
       "      <td>35.0</td>\n",
       "      <td>C123</td>\n",
       "      <td>S</td>\n",
       "      <td>53.1000</td>\n",
       "      <td>Futrelle, Mrs. Jacques Heath (Lily May Peel)</td>\n",
       "      <td>0</td>\n",
       "      <td>4</td>\n",
       "      <td>1</td>\n",
       "      <td>female</td>\n",
       "      <td>1</td>\n",
       "      <td>1.0</td>\n",
       "      <td>113803</td>\n",
       "    </tr>\n",
       "    <tr>\n",
       "      <th>4</th>\n",
       "      <td>35.0</td>\n",
       "      <td>NaN</td>\n",
       "      <td>S</td>\n",
       "      <td>8.0500</td>\n",
       "      <td>Allen, Mr. William Henry</td>\n",
       "      <td>0</td>\n",
       "      <td>5</td>\n",
       "      <td>3</td>\n",
       "      <td>male</td>\n",
       "      <td>0</td>\n",
       "      <td>0.0</td>\n",
       "      <td>373450</td>\n",
       "    </tr>\n",
       "  </tbody>\n",
       "</table>\n",
       "</div>"
      ],
      "text/plain": [
       "    Age Cabin Embarked     Fare  \\\n",
       "0  22.0   NaN        S   7.2500   \n",
       "1  38.0   C85        C  71.2833   \n",
       "2  26.0   NaN        S   7.9250   \n",
       "3  35.0  C123        S  53.1000   \n",
       "4  35.0   NaN        S   8.0500   \n",
       "\n",
       "                                                Name  Parch  PassengerId  \\\n",
       "0                            Braund, Mr. Owen Harris      0            1   \n",
       "1  Cumings, Mrs. John Bradley (Florence Briggs Th...      0            2   \n",
       "2                             Heikkinen, Miss. Laina      0            3   \n",
       "3       Futrelle, Mrs. Jacques Heath (Lily May Peel)      0            4   \n",
       "4                           Allen, Mr. William Henry      0            5   \n",
       "\n",
       "   Pclass     Sex  SibSp  Survived            Ticket  \n",
       "0       3    male      1       0.0         A/5 21171  \n",
       "1       1  female      1       1.0          PC 17599  \n",
       "2       3  female      0       1.0  STON/O2. 3101282  \n",
       "3       1  female      1       1.0            113803  \n",
       "4       3    male      0       0.0            373450  "
      ]
     },
     "execution_count": 4,
     "metadata": {},
     "output_type": "execute_result"
    }
   ],
   "source": [
    "#Let's combine the training and testing datasets to perform feature engineering on\n",
    "test_data['Survived'] = np.nan\n",
    "full_data = pd.concat([train_data, test_data], sort = True)\n",
    "full_data.head()"
   ]
  },
  {
   "cell_type": "code",
   "execution_count": 5,
   "metadata": {},
   "outputs": [
    {
     "data": {
      "text/plain": [
       "Cabin          1014\n",
       "Survived        418\n",
       "Age             263\n",
       "Embarked          2\n",
       "Fare              1\n",
       "Ticket            0\n",
       "SibSp             0\n",
       "Sex               0\n",
       "Pclass            0\n",
       "PassengerId       0\n",
       "Parch             0\n",
       "Name              0\n",
       "dtype: int64"
      ]
     },
     "execution_count": 5,
     "metadata": {},
     "output_type": "execute_result"
    }
   ],
   "source": [
    "# explore the nan's\n",
    "full_data.isnull().sum().sort_values(ascending = False)"
   ]
  },
  {
   "cell_type": "code",
   "execution_count": 6,
   "metadata": {},
   "outputs": [
    {
     "data": {
      "text/plain": [
       "Cabin          0.774637\n",
       "Survived       0.319328\n",
       "Age            0.200917\n",
       "Embarked       0.001528\n",
       "Fare           0.000764\n",
       "Ticket         0.000000\n",
       "SibSp          0.000000\n",
       "Sex            0.000000\n",
       "Pclass         0.000000\n",
       "PassengerId    0.000000\n",
       "Parch          0.000000\n",
       "Name           0.000000\n",
       "dtype: float64"
      ]
     },
     "execution_count": 6,
     "metadata": {},
     "output_type": "execute_result"
    }
   ],
   "source": [
    "#explore nans as a percentage\n",
    "full_data.isnull().mean().sort_values(ascending = False)"
   ]
  },
  {
   "cell_type": "code",
   "execution_count": 7,
   "metadata": {},
   "outputs": [],
   "source": [
    "#replace embarked nans with 'S', the most common value. aka 'the mode'\n",
    "full_data.Embarked.fillna('S', inplace = True)"
   ]
  },
  {
   "cell_type": "code",
   "execution_count": 8,
   "metadata": {},
   "outputs": [
    {
     "name": "stderr",
     "output_type": "stream",
     "text": [
      "/opt/conda/lib/python3.6/site-packages/ipykernel_launcher.py:2: SettingWithCopyWarning: \n",
      "A value is trying to be set on a copy of a slice from a DataFrame\n",
      "\n",
      "See the caveats in the documentation: http://pandas.pydata.org/pandas-docs/stable/user_guide/indexing.html#returning-a-view-versus-a-copy\n",
      "  \n",
      "/opt/conda/lib/python3.6/site-packages/ipykernel_launcher.py:3: SettingWithCopyWarning: \n",
      "A value is trying to be set on a copy of a slice from a DataFrame\n",
      "\n",
      "See the caveats in the documentation: http://pandas.pydata.org/pandas-docs/stable/user_guide/indexing.html#returning-a-view-versus-a-copy\n",
      "  This is separate from the ipykernel package so we can avoid doing imports until\n",
      "/opt/conda/lib/python3.6/site-packages/ipykernel_launcher.py:5: SettingWithCopyWarning: \n",
      "A value is trying to be set on a copy of a slice from a DataFrame\n",
      "\n",
      "See the caveats in the documentation: http://pandas.pydata.org/pandas-docs/stable/user_guide/indexing.html#returning-a-view-versus-a-copy\n",
      "  \"\"\"\n",
      "/opt/conda/lib/python3.6/site-packages/ipykernel_launcher.py:6: SettingWithCopyWarning: \n",
      "A value is trying to be set on a copy of a slice from a DataFrame\n",
      "\n",
      "See the caveats in the documentation: http://pandas.pydata.org/pandas-docs/stable/user_guide/indexing.html#returning-a-view-versus-a-copy\n",
      "  \n",
      "/opt/conda/lib/python3.6/site-packages/ipykernel_launcher.py:7: SettingWithCopyWarning: \n",
      "A value is trying to be set on a copy of a slice from a DataFrame\n",
      "\n",
      "See the caveats in the documentation: http://pandas.pydata.org/pandas-docs/stable/user_guide/indexing.html#returning-a-view-versus-a-copy\n",
      "  import sys\n"
     ]
    }
   ],
   "source": [
    "#make sex and embarked numerical variables\n",
    "full_data[\"Sex\"][full_data[\"Sex\"] == \"male\"] = 0\n",
    "full_data[\"Sex\"][full_data[\"Sex\"] == \"female\"] = 1\n",
    "\n",
    "full_data[\"Embarked\"][full_data[\"Embarked\"] == \"S\"] = 0\n",
    "full_data[\"Embarked\"][full_data[\"Embarked\"] == \"C\"] = 1\n",
    "full_data[\"Embarked\"][full_data[\"Embarked\"] == \"Q\"] = 2"
   ]
  },
  {
   "cell_type": "code",
   "execution_count": 9,
   "metadata": {},
   "outputs": [
    {
     "data": {
      "text/plain": [
       "<matplotlib.axes._subplots.AxesSubplot at 0x7fac2fd81a20>"
      ]
     },
     "execution_count": 9,
     "metadata": {},
     "output_type": "execute_result"
    },
    {
     "data": {
      "image/png": "[encoded data removed]",
      "text/plain": [
       "<Figure size 432x288 with 2 Axes>"
      ]
     },
     "metadata": {
      "needs_background": "light"
     },
     "output_type": "display_data"
    }
   ],
   "source": [
    "#correlation matrix to get ideas for the following impute steps\n",
    "import matplotlib.pyplot as plt\n",
    "import seaborn as sns\n",
    "\n",
    "sns.heatmap(full_data.corr(), annot = True)"
   ]
  },
  {
   "cell_type": "markdown",
   "metadata": {},
   "source": [
    "Still need to impute Age, Fare, and Cabin. Now we have the information to do it:\n",
    "Age is correlated highest with Pclass,\n",
    "Fare is also most correlated with Pclass"
   ]
  },
  {
   "cell_type": "code",
   "execution_count": 10,
   "metadata": {},
   "outputs": [],
   "source": [
    "#Impute Age and Fare using its median value grouped by Pclass\n",
    "full_data['Age'] = full_data.groupby(\"Pclass\")['Age'].transform(lambda x: x.fillna(x.median()))\n",
    "full_data['Fare'] = full_data.groupby(\"Pclass\")['Fare'].transform(lambda x: x.fillna(x.median()))"
   ]
  },
  {
   "cell_type": "code",
   "execution_count": 11,
   "metadata": {},
   "outputs": [],
   "source": [
    "#Cabin had a ton of missing values, but we don't want to lose the information there.\n",
    "#We will give the nans a value of 'U' for undefined until further feature engineering\n",
    "full_data.Cabin.fillna('U', inplace = True)"
   ]
  },
  {
   "cell_type": "code",
   "execution_count": 12,
   "metadata": {},
   "outputs": [
    {
     "data": {
      "text/plain": [
       "Survived       0.319328\n",
       "Ticket         0.000000\n",
       "SibSp          0.000000\n",
       "Sex            0.000000\n",
       "Pclass         0.000000\n",
       "PassengerId    0.000000\n",
       "Parch          0.000000\n",
       "Name           0.000000\n",
       "Fare           0.000000\n",
       "Embarked       0.000000\n",
       "Cabin          0.000000\n",
       "Age            0.000000\n",
       "dtype: float64"
      ]
     },
     "execution_count": 12,
     "metadata": {},
     "output_type": "execute_result"
    }
   ],
   "source": [
    "#all the nulls taken care of. Except Survived since we haven't predicted those yet.\n",
    "full_data.isnull().mean().sort_values(ascending = False)"
   ]
  },
  {
   "cell_type": "code",
   "execution_count": 13,
   "metadata": {},
   "outputs": [
    {
     "data": {
      "text/plain": [
       "['U', 'C', 'E', 'G', 'D', 'A', 'B', 'F', 'T']"
      ]
     },
     "execution_count": 13,
     "metadata": {},
     "output_type": "execute_result"
    }
   ],
   "source": [
    "#Cabin had a lot of missing information, so let's make a new feature called 'floor' from its first letter.\n",
    "full_data['Floor'] = full_data.Cabin.str[0]\n",
    "full_data.Floor.unique().tolist()"
   ]
  },
  {
   "cell_type": "code",
   "execution_count": 14,
   "metadata": {},
   "outputs": [
    {
     "name": "stderr",
     "output_type": "stream",
     "text": [
      "/opt/conda/lib/python3.6/site-packages/ipykernel_launcher.py:2: SettingWithCopyWarning: \n",
      "A value is trying to be set on a copy of a slice from a DataFrame\n",
      "\n",
      "See the caveats in the documentation: http://pandas.pydata.org/pandas-docs/stable/user_guide/indexing.html#returning-a-view-versus-a-copy\n",
      "  \n",
      "/opt/conda/lib/python3.6/site-packages/ipykernel_launcher.py:3: SettingWithCopyWarning: \n",
      "A value is trying to be set on a copy of a slice from a DataFrame\n",
      "\n",
      "See the caveats in the documentation: http://pandas.pydata.org/pandas-docs/stable/user_guide/indexing.html#returning-a-view-versus-a-copy\n",
      "  This is separate from the ipykernel package so we can avoid doing imports until\n",
      "/opt/conda/lib/python3.6/site-packages/ipykernel_launcher.py:4: SettingWithCopyWarning: \n",
      "A value is trying to be set on a copy of a slice from a DataFrame\n",
      "\n",
      "See the caveats in the documentation: http://pandas.pydata.org/pandas-docs/stable/user_guide/indexing.html#returning-a-view-versus-a-copy\n",
      "  after removing the cwd from sys.path.\n",
      "/opt/conda/lib/python3.6/site-packages/ipykernel_launcher.py:5: SettingWithCopyWarning: \n",
      "A value is trying to be set on a copy of a slice from a DataFrame\n",
      "\n",
      "See the caveats in the documentation: http://pandas.pydata.org/pandas-docs/stable/user_guide/indexing.html#returning-a-view-versus-a-copy\n",
      "  \"\"\"\n",
      "/opt/conda/lib/python3.6/site-packages/ipykernel_launcher.py:6: SettingWithCopyWarning: \n",
      "A value is trying to be set on a copy of a slice from a DataFrame\n",
      "\n",
      "See the caveats in the documentation: http://pandas.pydata.org/pandas-docs/stable/user_guide/indexing.html#returning-a-view-versus-a-copy\n",
      "  \n",
      "/opt/conda/lib/python3.6/site-packages/ipykernel_launcher.py:7: SettingWithCopyWarning: \n",
      "A value is trying to be set on a copy of a slice from a DataFrame\n",
      "\n",
      "See the caveats in the documentation: http://pandas.pydata.org/pandas-docs/stable/user_guide/indexing.html#returning-a-view-versus-a-copy\n",
      "  import sys\n",
      "/opt/conda/lib/python3.6/site-packages/ipykernel_launcher.py:8: SettingWithCopyWarning: \n",
      "A value is trying to be set on a copy of a slice from a DataFrame\n",
      "\n",
      "See the caveats in the documentation: http://pandas.pydata.org/pandas-docs/stable/user_guide/indexing.html#returning-a-view-versus-a-copy\n",
      "  \n",
      "/opt/conda/lib/python3.6/site-packages/ipykernel_launcher.py:9: SettingWithCopyWarning: \n",
      "A value is trying to be set on a copy of a slice from a DataFrame\n",
      "\n",
      "See the caveats in the documentation: http://pandas.pydata.org/pandas-docs/stable/user_guide/indexing.html#returning-a-view-versus-a-copy\n",
      "  if __name__ == '__main__':\n",
      "/opt/conda/lib/python3.6/site-packages/ipykernel_launcher.py:10: SettingWithCopyWarning: \n",
      "A value is trying to be set on a copy of a slice from a DataFrame\n",
      "\n",
      "See the caveats in the documentation: http://pandas.pydata.org/pandas-docs/stable/user_guide/indexing.html#returning-a-view-versus-a-copy\n",
      "  # Remove the CWD from sys.path while we load stuff.\n"
     ]
    },
    {
     "data": {
      "text/plain": [
       "0    8\n",
       "1    2\n",
       "2    8\n",
       "3    2\n",
       "4    8\n",
       "Name: Floor, dtype: object"
      ]
     },
     "execution_count": 14,
     "metadata": {},
     "output_type": "execute_result"
    }
   ],
   "source": [
    "#now that Floor is manageable let's recode it numerically\n",
    "full_data[\"Floor\"][full_data[\"Floor\"] == \"A\"] = 0\n",
    "full_data[\"Floor\"][full_data[\"Floor\"] == \"B\"] = 1\n",
    "full_data[\"Floor\"][full_data[\"Floor\"] == \"C\"] = 2\n",
    "full_data[\"Floor\"][full_data[\"Floor\"] == \"D\"] = 3\n",
    "full_data[\"Floor\"][full_data[\"Floor\"] == \"E\"] = 4\n",
    "full_data[\"Floor\"][full_data[\"Floor\"] == \"F\"] = 5\n",
    "full_data[\"Floor\"][full_data[\"Floor\"] == \"G\"] = 6\n",
    "full_data[\"Floor\"][full_data[\"Floor\"] == \"T\"] = 7\n",
    "full_data[\"Floor\"][full_data[\"Floor\"] == \"U\"] = 8\n",
    "full_data.Floor.head()"
   ]
  },
  {
   "cell_type": "code",
   "execution_count": 15,
   "metadata": {},
   "outputs": [
    {
     "data": {
      "text/plain": [
       "['Mr',\n",
       " 'Mrs',\n",
       " 'Miss',\n",
       " 'Master',\n",
       " 'Don',\n",
       " 'Rev',\n",
       " 'Dr',\n",
       " 'Mme',\n",
       " 'Ms',\n",
       " 'Major',\n",
       " 'Lady',\n",
       " 'Sir',\n",
       " 'Mlle',\n",
       " 'Col',\n",
       " 'Capt',\n",
       " 'Countess',\n",
       " 'Jonkheer',\n",
       " 'Dona']"
      ]
     },
     "execution_count": 15,
     "metadata": {},
     "output_type": "execute_result"
    }
   ],
   "source": [
    "#Let's see if we can do something similar with 'Name' by extracting the title. (Like Mr. or Mrs.)\n",
    "#This time we need regular expressions\n",
    "#We will take all the letters before a '.' but after a space\n",
    "import re\n",
    "full_data['Title'] = full_data.Name.str.extract(' ([A-Za-z]+)\\.', expand = False)\n",
    "full_data.Title.unique().tolist()"
   ]
  },
  {
   "cell_type": "code",
   "execution_count": 16,
   "metadata": {},
   "outputs": [
    {
     "data": {
      "text/plain": [
       "Mr          0.578304\n",
       "Miss        0.198625\n",
       "Mrs         0.150497\n",
       "Master      0.046600\n",
       "Dr          0.006112\n",
       "Rev         0.006112\n",
       "Col         0.003056\n",
       "Major       0.001528\n",
       "Mlle        0.001528\n",
       "Ms          0.001528\n",
       "Mme         0.000764\n",
       "Jonkheer    0.000764\n",
       "Don         0.000764\n",
       "Sir         0.000764\n",
       "Lady        0.000764\n",
       "Dona        0.000764\n",
       "Capt        0.000764\n",
       "Countess    0.000764\n",
       "Name: Title, dtype: float64"
      ]
     },
     "execution_count": 16,
     "metadata": {},
     "output_type": "execute_result"
    }
   ],
   "source": [
    "#what's the distribution of each of these titles?\n",
    "full_data.Title.value_counts(normalize = True)"
   ]
  },
  {
   "cell_type": "code",
   "execution_count": 17,
   "metadata": {},
   "outputs": [
    {
     "data": {
      "text/plain": [
       "['Mr', 'Mrs', 'Miss', 'Other']"
      ]
     },
     "execution_count": 17,
     "metadata": {},
     "output_type": "execute_result"
    }
   ],
   "source": [
    "#the top three contain most of the information, so we'll combine the others into... 'Other'\n",
    "full_data['Title'] = full_data.Title.replace(['Master', 'Dr', 'Rev', 'Col', \n",
    "                                              'Major', 'Ms', 'Mlle', 'Countess', \n",
    "                                              'Lady', 'Dona', 'Sir', 'Jonkheer', \n",
    "                                              'Don', 'Capt', 'Mme'], 'Other')\n",
    "full_data.Title.unique().tolist()"
   ]
  },
  {
   "cell_type": "code",
   "execution_count": 18,
   "metadata": {},
   "outputs": [
    {
     "data": {
      "text/plain": [
       "[1, 3, 2, 3, 1]"
      ]
     },
     "execution_count": 18,
     "metadata": {},
     "output_type": "execute_result"
    }
   ],
   "source": [
    "#excellent, now just like the others recode it numerically\n",
    "title_category = {'Mr':1, 'Miss':2, 'Mrs':3, 'Master':4, 'Other':5}\n",
    "full_data['Title'] = full_data['Title'].map(title_category)\n",
    "full_data.Title.head().tolist()"
   ]
  },
  {
   "cell_type": "code",
   "execution_count": 19,
   "metadata": {},
   "outputs": [
    {
     "data": {
      "text/plain": [
       "0    2\n",
       "1    2\n",
       "2    1\n",
       "3    2\n",
       "4    1\n",
       "Name: Family_size, dtype: int64"
      ]
     },
     "execution_count": 19,
     "metadata": {},
     "output_type": "execute_result"
    }
   ],
   "source": [
    "#last feature to create here. Family size. This is the sum of Parch and Sibsp plus 1\n",
    "full_data['Family_size'] = full_data['Parch'] + full_data['SibSp'] + 1\n",
    "full_data.Family_size.head()"
   ]
  },
  {
   "cell_type": "code",
   "execution_count": 20,
   "metadata": {},
   "outputs": [
    {
     "data": {
      "text/html": [
       "<div>\n",
       "<style scoped>\n",
       "    .dataframe tbody tr th:only-of-type {\n",
       "        vertical-align: middle;\n",
       "    }\n",
       "\n",
       "    .dataframe tbody tr th {\n",
       "        vertical-align: top;\n",
       "    }\n",
       "\n",
       "    .dataframe thead th {\n",
       "        text-align: right;\n",
       "    }\n",
       "</style>\n",
       "<table border=\"1\" class=\"dataframe\">\n",
       "  <thead>\n",
       "    <tr style=\"text-align: right;\">\n",
       "      <th></th>\n",
       "      <th>Age</th>\n",
       "      <th>Embarked</th>\n",
       "      <th>Fare</th>\n",
       "      <th>PassengerId</th>\n",
       "      <th>Pclass</th>\n",
       "      <th>Sex</th>\n",
       "      <th>Survived</th>\n",
       "      <th>Floor</th>\n",
       "      <th>Title</th>\n",
       "      <th>Family_size</th>\n",
       "    </tr>\n",
       "  </thead>\n",
       "  <tbody>\n",
       "    <tr>\n",
       "      <th>0</th>\n",
       "      <td>22.0</td>\n",
       "      <td>0</td>\n",
       "      <td>7.2500</td>\n",
       "      <td>1</td>\n",
       "      <td>3</td>\n",
       "      <td>0</td>\n",
       "      <td>0.0</td>\n",
       "      <td>8</td>\n",
       "      <td>1</td>\n",
       "      <td>2</td>\n",
       "    </tr>\n",
       "    <tr>\n",
       "      <th>1</th>\n",
       "      <td>38.0</td>\n",
       "      <td>1</td>\n",
       "      <td>71.2833</td>\n",
       "      <td>2</td>\n",
       "      <td>1</td>\n",
       "      <td>1</td>\n",
       "      <td>1.0</td>\n",
       "      <td>2</td>\n",
       "      <td>3</td>\n",
       "      <td>2</td>\n",
       "    </tr>\n",
       "    <tr>\n",
       "      <th>2</th>\n",
       "      <td>26.0</td>\n",
       "      <td>0</td>\n",
       "      <td>7.9250</td>\n",
       "      <td>3</td>\n",
       "      <td>3</td>\n",
       "      <td>1</td>\n",
       "      <td>1.0</td>\n",
       "      <td>8</td>\n",
       "      <td>2</td>\n",
       "      <td>1</td>\n",
       "    </tr>\n",
       "    <tr>\n",
       "      <th>3</th>\n",
       "      <td>35.0</td>\n",
       "      <td>0</td>\n",
       "      <td>53.1000</td>\n",
       "      <td>4</td>\n",
       "      <td>1</td>\n",
       "      <td>1</td>\n",
       "      <td>1.0</td>\n",
       "      <td>2</td>\n",
       "      <td>3</td>\n",
       "      <td>2</td>\n",
       "    </tr>\n",
       "    <tr>\n",
       "      <th>4</th>\n",
       "      <td>35.0</td>\n",
       "      <td>0</td>\n",
       "      <td>8.0500</td>\n",
       "      <td>5</td>\n",
       "      <td>3</td>\n",
       "      <td>0</td>\n",
       "      <td>0.0</td>\n",
       "      <td>8</td>\n",
       "      <td>1</td>\n",
       "      <td>1</td>\n",
       "    </tr>\n",
       "  </tbody>\n",
       "</table>\n",
       "</div>"
      ],
      "text/plain": [
       "    Age Embarked     Fare  PassengerId  Pclass Sex  Survived Floor  Title  \\\n",
       "0  22.0        0   7.2500            1       3   0       0.0     8      1   \n",
       "1  38.0        1  71.2833            2       1   1       1.0     2      3   \n",
       "2  26.0        0   7.9250            3       3   1       1.0     8      2   \n",
       "3  35.0        0  53.1000            4       1   1       1.0     2      3   \n",
       "4  35.0        0   8.0500            5       3   0       0.0     8      1   \n",
       "\n",
       "   Family_size  \n",
       "0            2  \n",
       "1            2  \n",
       "2            1  \n",
       "3            2  \n",
       "4            1  "
      ]
     },
     "execution_count": 20,
     "metadata": {},
     "output_type": "execute_result"
    }
   ],
   "source": [
    "#here we discard the columns that we have extracted the information from \n",
    "full_data = full_data.drop(['Parch', 'SibSp', 'Cabin', 'Name', 'Ticket'], axis = 1)\n",
    "full_data.head()"
   ]
  },
  {
   "cell_type": "code",
   "execution_count": 21,
   "metadata": {},
   "outputs": [
    {
     "name": "stdout",
     "output_type": "stream",
     "text": [
      "(1309, 10)\n",
      "Survived       0.319328\n",
      "Family_size    0.000000\n",
      "Title          0.000000\n",
      "Floor          0.000000\n",
      "Sex            0.000000\n",
      "Pclass         0.000000\n",
      "PassengerId    0.000000\n",
      "Fare           0.000000\n",
      "Embarked       0.000000\n",
      "Age            0.000000\n",
      "dtype: float64\n"
     ]
    },
    {
     "data": {
      "text/html": [
       "<div>\n",
       "<style scoped>\n",
       "    .dataframe tbody tr th:only-of-type {\n",
       "        vertical-align: middle;\n",
       "    }\n",
       "\n",
       "    .dataframe tbody tr th {\n",
       "        vertical-align: top;\n",
       "    }\n",
       "\n",
       "    .dataframe thead th {\n",
       "        text-align: right;\n",
       "    }\n",
       "</style>\n",
       "<table border=\"1\" class=\"dataframe\">\n",
       "  <thead>\n",
       "    <tr style=\"text-align: right;\">\n",
       "      <th></th>\n",
       "      <th>Age</th>\n",
       "      <th>Embarked</th>\n",
       "      <th>Fare</th>\n",
       "      <th>PassengerId</th>\n",
       "      <th>Pclass</th>\n",
       "      <th>Sex</th>\n",
       "      <th>Survived</th>\n",
       "      <th>Floor</th>\n",
       "      <th>Title</th>\n",
       "      <th>Family_size</th>\n",
       "    </tr>\n",
       "  </thead>\n",
       "  <tbody>\n",
       "    <tr>\n",
       "      <th>0</th>\n",
       "      <td>22.0</td>\n",
       "      <td>0</td>\n",
       "      <td>7.2500</td>\n",
       "      <td>1</td>\n",
       "      <td>3</td>\n",
       "      <td>0</td>\n",
       "      <td>0.0</td>\n",
       "      <td>8</td>\n",
       "      <td>1</td>\n",
       "      <td>2</td>\n",
       "    </tr>\n",
       "    <tr>\n",
       "      <th>1</th>\n",
       "      <td>38.0</td>\n",
       "      <td>1</td>\n",
       "      <td>71.2833</td>\n",
       "      <td>2</td>\n",
       "      <td>1</td>\n",
       "      <td>1</td>\n",
       "      <td>1.0</td>\n",
       "      <td>2</td>\n",
       "      <td>3</td>\n",
       "      <td>2</td>\n",
       "    </tr>\n",
       "    <tr>\n",
       "      <th>2</th>\n",
       "      <td>26.0</td>\n",
       "      <td>0</td>\n",
       "      <td>7.9250</td>\n",
       "      <td>3</td>\n",
       "      <td>3</td>\n",
       "      <td>1</td>\n",
       "      <td>1.0</td>\n",
       "      <td>8</td>\n",
       "      <td>2</td>\n",
       "      <td>1</td>\n",
       "    </tr>\n",
       "    <tr>\n",
       "      <th>3</th>\n",
       "      <td>35.0</td>\n",
       "      <td>0</td>\n",
       "      <td>53.1000</td>\n",
       "      <td>4</td>\n",
       "      <td>1</td>\n",
       "      <td>1</td>\n",
       "      <td>1.0</td>\n",
       "      <td>2</td>\n",
       "      <td>3</td>\n",
       "      <td>2</td>\n",
       "    </tr>\n",
       "    <tr>\n",
       "      <th>4</th>\n",
       "      <td>35.0</td>\n",
       "      <td>0</td>\n",
       "      <td>8.0500</td>\n",
       "      <td>5</td>\n",
       "      <td>3</td>\n",
       "      <td>0</td>\n",
       "      <td>0.0</td>\n",
       "      <td>8</td>\n",
       "      <td>1</td>\n",
       "      <td>1</td>\n",
       "    </tr>\n",
       "  </tbody>\n",
       "</table>\n",
       "</div>"
      ],
      "text/plain": [
       "    Age Embarked     Fare  PassengerId  Pclass Sex  Survived Floor  Title  \\\n",
       "0  22.0        0   7.2500            1       3   0       0.0     8      1   \n",
       "1  38.0        1  71.2833            2       1   1       1.0     2      3   \n",
       "2  26.0        0   7.9250            3       3   1       1.0     8      2   \n",
       "3  35.0        0  53.1000            4       1   1       1.0     2      3   \n",
       "4  35.0        0   8.0500            5       3   0       0.0     8      1   \n",
       "\n",
       "   Family_size  \n",
       "0            2  \n",
       "1            2  \n",
       "2            1  \n",
       "3            2  \n",
       "4            1  "
      ]
     },
     "execution_count": 21,
     "metadata": {},
     "output_type": "execute_result"
    }
   ],
   "source": [
    "print(full_data.shape)\n",
    "print(full_data.isnull().mean().sort_values(ascending = False))\n",
    "full_data.head()"
   ]
  },
  {
   "cell_type": "markdown",
   "metadata": {},
   "source": [
    "Excellent! Besides 'Survived' there are no null values, and all our data is numerical."
   ]
  },
  {
   "cell_type": "code",
   "execution_count": 22,
   "metadata": {},
   "outputs": [
    {
     "name": "stderr",
     "output_type": "stream",
     "text": [
      "/opt/conda/lib/python3.6/site-packages/ipykernel_launcher.py:5: SettingWithCopyWarning: \n",
      "A value is trying to be set on a copy of a slice from a DataFrame.\n",
      "Try using .loc[row_indexer,col_indexer] = value instead\n",
      "\n",
      "See the caveats in the documentation: http://pandas.pydata.org/pandas-docs/stable/user_guide/indexing.html#returning-a-view-versus-a-copy\n",
      "  \"\"\"\n"
     ]
    },
    {
     "data": {
      "text/plain": [
       "(418, 9)"
      ]
     },
     "execution_count": 22,
     "metadata": {},
     "output_type": "execute_result"
    }
   ],
   "source": [
    "#Now we can separate into the train and test sets again\n",
    "final = full_data[full_data['Survived'].isna()].drop('Survived', axis = 1)\n",
    "train = full_data[full_data['Survived'].notna()]\n",
    "#survived needs to be an integer for the competition output\n",
    "train['Survived'] = train.Survived.astype('int8')\n",
    "output_key = final['PassengerId']\n",
    "final.shape"
   ]
  },
  {
   "cell_type": "code",
   "execution_count": 23,
   "metadata": {},
   "outputs": [],
   "source": [
    "#Separate the train data into predictor and target variables\n",
    "X = train.drop('Survived', axis = 1)\n",
    "y = train['Survived']"
   ]
  },
  {
   "cell_type": "code",
   "execution_count": 24,
   "metadata": {},
   "outputs": [],
   "source": [
    "#make train/test split\n",
    "from sklearn.model_selection import train_test_split\n",
    "X_train, X_test, y_train, y_test = train_test_split(X, y, test_size = 0.2, random_state = 42, stratify = y)"
   ]
  },
  {
   "cell_type": "code",
   "execution_count": 25,
   "metadata": {},
   "outputs": [
    {
     "data": {
      "text/html": [
       "<style  type=\"text/css\" >\n",
       "    #T_8b270f4e_8957_11ea_93bb_0242ac130202row0_col0 {\n",
       "            background-color:  #b40426;\n",
       "            color:  #f1f1f1;\n",
       "        }    #T_8b270f4e_8957_11ea_93bb_0242ac130202row0_col1 {\n",
       "            background-color:  #8caffe;\n",
       "            color:  #000000;\n",
       "        }    #T_8b270f4e_8957_11ea_93bb_0242ac130202row0_col2 {\n",
       "            background-color:  #a9c6fd;\n",
       "            color:  #000000;\n",
       "        }    #T_8b270f4e_8957_11ea_93bb_0242ac130202row0_col3 {\n",
       "            background-color:  #9dbdff;\n",
       "            color:  #000000;\n",
       "        }    #T_8b270f4e_8957_11ea_93bb_0242ac130202row0_col4 {\n",
       "            background-color:  #799cf8;\n",
       "            color:  #000000;\n",
       "        }    #T_8b270f4e_8957_11ea_93bb_0242ac130202row0_col5 {\n",
       "            background-color:  #6c8ff1;\n",
       "            color:  #000000;\n",
       "        }    #T_8b270f4e_8957_11ea_93bb_0242ac130202row0_col6 {\n",
       "            background-color:  #b3cdfb;\n",
       "            color:  #000000;\n",
       "        }    #T_8b270f4e_8957_11ea_93bb_0242ac130202row1_col0 {\n",
       "            background-color:  #4961d2;\n",
       "            color:  #f1f1f1;\n",
       "        }    #T_8b270f4e_8957_11ea_93bb_0242ac130202row1_col1 {\n",
       "            background-color:  #b40426;\n",
       "            color:  #f1f1f1;\n",
       "        }    #T_8b270f4e_8957_11ea_93bb_0242ac130202row1_col2 {\n",
       "            background-color:  #6485ec;\n",
       "            color:  #000000;\n",
       "        }    #T_8b270f4e_8957_11ea_93bb_0242ac130202row1_col3 {\n",
       "            background-color:  #80a3fa;\n",
       "            color:  #000000;\n",
       "        }    #T_8b270f4e_8957_11ea_93bb_0242ac130202row1_col4 {\n",
       "            background-color:  #7ea1fa;\n",
       "            color:  #000000;\n",
       "        }    #T_8b270f4e_8957_11ea_93bb_0242ac130202row1_col5 {\n",
       "            background-color:  #85a8fc;\n",
       "            color:  #000000;\n",
       "        }    #T_8b270f4e_8957_11ea_93bb_0242ac130202row1_col6 {\n",
       "            background-color:  #e2dad5;\n",
       "            color:  #000000;\n",
       "        }    #T_8b270f4e_8957_11ea_93bb_0242ac130202row2_col0 {\n",
       "            background-color:  #4055c8;\n",
       "            color:  #f1f1f1;\n",
       "        }    #T_8b270f4e_8957_11ea_93bb_0242ac130202row2_col1 {\n",
       "            background-color:  #3b4cc0;\n",
       "            color:  #f1f1f1;\n",
       "        }    #T_8b270f4e_8957_11ea_93bb_0242ac130202row2_col2 {\n",
       "            background-color:  #b40426;\n",
       "            color:  #f1f1f1;\n",
       "        }    #T_8b270f4e_8957_11ea_93bb_0242ac130202row2_col3 {\n",
       "            background-color:  #3b4cc0;\n",
       "            color:  #f1f1f1;\n",
       "        }    #T_8b270f4e_8957_11ea_93bb_0242ac130202row2_col4 {\n",
       "            background-color:  #9ebeff;\n",
       "            color:  #000000;\n",
       "        }    #T_8b270f4e_8957_11ea_93bb_0242ac130202row2_col5 {\n",
       "            background-color:  #7295f4;\n",
       "            color:  #000000;\n",
       "        }    #T_8b270f4e_8957_11ea_93bb_0242ac130202row2_col6 {\n",
       "            background-color:  #3b4cc0;\n",
       "            color:  #f1f1f1;\n",
       "        }    #T_8b270f4e_8957_11ea_93bb_0242ac130202row3_col0 {\n",
       "            background-color:  #5572df;\n",
       "            color:  #000000;\n",
       "        }    #T_8b270f4e_8957_11ea_93bb_0242ac130202row3_col1 {\n",
       "            background-color:  #799cf8;\n",
       "            color:  #000000;\n",
       "        }    #T_8b270f4e_8957_11ea_93bb_0242ac130202row3_col2 {\n",
       "            background-color:  #5e7de7;\n",
       "            color:  #000000;\n",
       "        }    #T_8b270f4e_8957_11ea_93bb_0242ac130202row3_col3 {\n",
       "            background-color:  #b40426;\n",
       "            color:  #f1f1f1;\n",
       "        }    #T_8b270f4e_8957_11ea_93bb_0242ac130202row3_col4 {\n",
       "            background-color:  #3b4cc0;\n",
       "            color:  #f1f1f1;\n",
       "        }    #T_8b270f4e_8957_11ea_93bb_0242ac130202row3_col5 {\n",
       "            background-color:  #3b4cc0;\n",
       "            color:  #f1f1f1;\n",
       "        }    #T_8b270f4e_8957_11ea_93bb_0242ac130202row3_col6 {\n",
       "            background-color:  #c5d6f2;\n",
       "            color:  #000000;\n",
       "        }    #T_8b270f4e_8957_11ea_93bb_0242ac130202row4_col0 {\n",
       "            background-color:  #3b4cc0;\n",
       "            color:  #f1f1f1;\n",
       "        }    #T_8b270f4e_8957_11ea_93bb_0242ac130202row4_col1 {\n",
       "            background-color:  #84a7fc;\n",
       "            color:  #000000;\n",
       "        }    #T_8b270f4e_8957_11ea_93bb_0242ac130202row4_col2 {\n",
       "            background-color:  #c3d5f4;\n",
       "            color:  #000000;\n",
       "        }    #T_8b270f4e_8957_11ea_93bb_0242ac130202row4_col3 {\n",
       "            background-color:  #485fd1;\n",
       "            color:  #f1f1f1;\n",
       "        }    #T_8b270f4e_8957_11ea_93bb_0242ac130202row4_col4 {\n",
       "            background-color:  #b40426;\n",
       "            color:  #f1f1f1;\n",
       "        }    #T_8b270f4e_8957_11ea_93bb_0242ac130202row4_col5 {\n",
       "            background-color:  #dfdbd9;\n",
       "            color:  #000000;\n",
       "        }    #T_8b270f4e_8957_11ea_93bb_0242ac130202row4_col6 {\n",
       "            background-color:  #d2dbe8;\n",
       "            color:  #000000;\n",
       "        }    #T_8b270f4e_8957_11ea_93bb_0242ac130202row5_col0 {\n",
       "            background-color:  #4a63d3;\n",
       "            color:  #f1f1f1;\n",
       "        }    #T_8b270f4e_8957_11ea_93bb_0242ac130202row5_col1 {\n",
       "            background-color:  #a3c2fe;\n",
       "            color:  #000000;\n",
       "        }    #T_8b270f4e_8957_11ea_93bb_0242ac130202row5_col2 {\n",
       "            background-color:  #b5cdfa;\n",
       "            color:  #000000;\n",
       "        }    #T_8b270f4e_8957_11ea_93bb_0242ac130202row5_col3 {\n",
       "            background-color:  #6384eb;\n",
       "            color:  #000000;\n",
       "        }    #T_8b270f4e_8957_11ea_93bb_0242ac130202row5_col4 {\n",
       "            background-color:  #ead5c9;\n",
       "            color:  #000000;\n",
       "        }    #T_8b270f4e_8957_11ea_93bb_0242ac130202row5_col5 {\n",
       "            background-color:  #b40426;\n",
       "            color:  #f1f1f1;\n",
       "        }    #T_8b270f4e_8957_11ea_93bb_0242ac130202row5_col6 {\n",
       "            background-color:  #dbdcde;\n",
       "            color:  #000000;\n",
       "        }    #T_8b270f4e_8957_11ea_93bb_0242ac130202row6_col0 {\n",
       "            background-color:  #4e68d8;\n",
       "            color:  #000000;\n",
       "        }    #T_8b270f4e_8957_11ea_93bb_0242ac130202row6_col1 {\n",
       "            background-color:  #cdd9ec;\n",
       "            color:  #000000;\n",
       "        }    #T_8b270f4e_8957_11ea_93bb_0242ac130202row6_col2 {\n",
       "            background-color:  #3b4cc0;\n",
       "            color:  #f1f1f1;\n",
       "        }    #T_8b270f4e_8957_11ea_93bb_0242ac130202row6_col3 {\n",
       "            background-color:  #abc8fd;\n",
       "            color:  #000000;\n",
       "        }    #T_8b270f4e_8957_11ea_93bb_0242ac130202row6_col4 {\n",
       "            background-color:  #b2ccfb;\n",
       "            color:  #000000;\n",
       "        }    #T_8b270f4e_8957_11ea_93bb_0242ac130202row6_col5 {\n",
       "            background-color:  #adc9fd;\n",
       "            color:  #000000;\n",
       "        }    #T_8b270f4e_8957_11ea_93bb_0242ac130202row6_col6 {\n",
       "            background-color:  #b40426;\n",
       "            color:  #f1f1f1;\n",
       "        }</style><table id=\"T_8b270f4e_8957_11ea_93bb_0242ac130202\" ><thead>    <tr>        <th class=\"blank level0\" ></th>        <th class=\"col_heading level0 col0\" >PassengerId</th>        <th class=\"col_heading level0 col1\" >Survived</th>        <th class=\"col_heading level0 col2\" >Pclass</th>        <th class=\"col_heading level0 col3\" >Age</th>        <th class=\"col_heading level0 col4\" >SibSp</th>        <th class=\"col_heading level0 col5\" >Parch</th>        <th class=\"col_heading level0 col6\" >Fare</th>    </tr></thead><tbody>\n",
       "                <tr>\n",
       "                        <th id=\"T_8b270f4e_8957_11ea_93bb_0242ac130202level0_row0\" class=\"row_heading level0 row0\" >PassengerId</th>\n",
       "                        <td id=\"T_8b270f4e_8957_11ea_93bb_0242ac130202row0_col0\" class=\"data row0 col0\" >1</td>\n",
       "                        <td id=\"T_8b270f4e_8957_11ea_93bb_0242ac130202row0_col1\" class=\"data row0 col1\" >-0.005</td>\n",
       "                        <td id=\"T_8b270f4e_8957_11ea_93bb_0242ac130202row0_col2\" class=\"data row0 col2\" >-0.035</td>\n",
       "                        <td id=\"T_8b270f4e_8957_11ea_93bb_0242ac130202row0_col3\" class=\"data row0 col3\" >0.037</td>\n",
       "                        <td id=\"T_8b270f4e_8957_11ea_93bb_0242ac130202row0_col4\" class=\"data row0 col4\" >-0.058</td>\n",
       "                        <td id=\"T_8b270f4e_8957_11ea_93bb_0242ac130202row0_col5\" class=\"data row0 col5\" >-0.0017</td>\n",
       "                        <td id=\"T_8b270f4e_8957_11ea_93bb_0242ac130202row0_col6\" class=\"data row0 col6\" >0.013</td>\n",
       "            </tr>\n",
       "            <tr>\n",
       "                        <th id=\"T_8b270f4e_8957_11ea_93bb_0242ac130202level0_row1\" class=\"row_heading level0 row1\" >Survived</th>\n",
       "                        <td id=\"T_8b270f4e_8957_11ea_93bb_0242ac130202row1_col0\" class=\"data row1 col0\" >-0.005</td>\n",
       "                        <td id=\"T_8b270f4e_8957_11ea_93bb_0242ac130202row1_col1\" class=\"data row1 col1\" >1</td>\n",
       "                        <td id=\"T_8b270f4e_8957_11ea_93bb_0242ac130202row1_col2\" class=\"data row1 col2\" >-0.34</td>\n",
       "                        <td id=\"T_8b270f4e_8957_11ea_93bb_0242ac130202row1_col3\" class=\"data row1 col3\" >-0.077</td>\n",
       "                        <td id=\"T_8b270f4e_8957_11ea_93bb_0242ac130202row1_col4\" class=\"data row1 col4\" >-0.035</td>\n",
       "                        <td id=\"T_8b270f4e_8957_11ea_93bb_0242ac130202row1_col5\" class=\"data row1 col5\" >0.082</td>\n",
       "                        <td id=\"T_8b270f4e_8957_11ea_93bb_0242ac130202row1_col6\" class=\"data row1 col6\" >0.26</td>\n",
       "            </tr>\n",
       "            <tr>\n",
       "                        <th id=\"T_8b270f4e_8957_11ea_93bb_0242ac130202level0_row2\" class=\"row_heading level0 row2\" >Pclass</th>\n",
       "                        <td id=\"T_8b270f4e_8957_11ea_93bb_0242ac130202row2_col0\" class=\"data row2 col0\" >-0.035</td>\n",
       "                        <td id=\"T_8b270f4e_8957_11ea_93bb_0242ac130202row2_col1\" class=\"data row2 col1\" >-0.34</td>\n",
       "                        <td id=\"T_8b270f4e_8957_11ea_93bb_0242ac130202row2_col2\" class=\"data row2 col2\" >1</td>\n",
       "                        <td id=\"T_8b270f4e_8957_11ea_93bb_0242ac130202row2_col3\" class=\"data row2 col3\" >-0.37</td>\n",
       "                        <td id=\"T_8b270f4e_8957_11ea_93bb_0242ac130202row2_col4\" class=\"data row2 col4\" >0.083</td>\n",
       "                        <td id=\"T_8b270f4e_8957_11ea_93bb_0242ac130202row2_col5\" class=\"data row2 col5\" >0.018</td>\n",
       "                        <td id=\"T_8b270f4e_8957_11ea_93bb_0242ac130202row2_col6\" class=\"data row2 col6\" >-0.55</td>\n",
       "            </tr>\n",
       "            <tr>\n",
       "                        <th id=\"T_8b270f4e_8957_11ea_93bb_0242ac130202level0_row3\" class=\"row_heading level0 row3\" >Age</th>\n",
       "                        <td id=\"T_8b270f4e_8957_11ea_93bb_0242ac130202row3_col0\" class=\"data row3 col0\" >0.037</td>\n",
       "                        <td id=\"T_8b270f4e_8957_11ea_93bb_0242ac130202row3_col1\" class=\"data row3 col1\" >-0.077</td>\n",
       "                        <td id=\"T_8b270f4e_8957_11ea_93bb_0242ac130202row3_col2\" class=\"data row3 col2\" >-0.37</td>\n",
       "                        <td id=\"T_8b270f4e_8957_11ea_93bb_0242ac130202row3_col3\" class=\"data row3 col3\" >1</td>\n",
       "                        <td id=\"T_8b270f4e_8957_11ea_93bb_0242ac130202row3_col4\" class=\"data row3 col4\" >-0.31</td>\n",
       "                        <td id=\"T_8b270f4e_8957_11ea_93bb_0242ac130202row3_col5\" class=\"data row3 col5\" >-0.19</td>\n",
       "                        <td id=\"T_8b270f4e_8957_11ea_93bb_0242ac130202row3_col6\" class=\"data row3 col6\" >0.096</td>\n",
       "            </tr>\n",
       "            <tr>\n",
       "                        <th id=\"T_8b270f4e_8957_11ea_93bb_0242ac130202level0_row4\" class=\"row_heading level0 row4\" >SibSp</th>\n",
       "                        <td id=\"T_8b270f4e_8957_11ea_93bb_0242ac130202row4_col0\" class=\"data row4 col0\" >-0.058</td>\n",
       "                        <td id=\"T_8b270f4e_8957_11ea_93bb_0242ac130202row4_col1\" class=\"data row4 col1\" >-0.035</td>\n",
       "                        <td id=\"T_8b270f4e_8957_11ea_93bb_0242ac130202row4_col2\" class=\"data row4 col2\" >0.083</td>\n",
       "                        <td id=\"T_8b270f4e_8957_11ea_93bb_0242ac130202row4_col3\" class=\"data row4 col3\" >-0.31</td>\n",
       "                        <td id=\"T_8b270f4e_8957_11ea_93bb_0242ac130202row4_col4\" class=\"data row4 col4\" >1</td>\n",
       "                        <td id=\"T_8b270f4e_8957_11ea_93bb_0242ac130202row4_col5\" class=\"data row4 col5\" >0.41</td>\n",
       "                        <td id=\"T_8b270f4e_8957_11ea_93bb_0242ac130202row4_col6\" class=\"data row4 col6\" >0.16</td>\n",
       "            </tr>\n",
       "            <tr>\n",
       "                        <th id=\"T_8b270f4e_8957_11ea_93bb_0242ac130202level0_row5\" class=\"row_heading level0 row5\" >Parch</th>\n",
       "                        <td id=\"T_8b270f4e_8957_11ea_93bb_0242ac130202row5_col0\" class=\"data row5 col0\" >-0.0017</td>\n",
       "                        <td id=\"T_8b270f4e_8957_11ea_93bb_0242ac130202row5_col1\" class=\"data row5 col1\" >0.082</td>\n",
       "                        <td id=\"T_8b270f4e_8957_11ea_93bb_0242ac130202row5_col2\" class=\"data row5 col2\" >0.018</td>\n",
       "                        <td id=\"T_8b270f4e_8957_11ea_93bb_0242ac130202row5_col3\" class=\"data row5 col3\" >-0.19</td>\n",
       "                        <td id=\"T_8b270f4e_8957_11ea_93bb_0242ac130202row5_col4\" class=\"data row5 col4\" >0.41</td>\n",
       "                        <td id=\"T_8b270f4e_8957_11ea_93bb_0242ac130202row5_col5\" class=\"data row5 col5\" >1</td>\n",
       "                        <td id=\"T_8b270f4e_8957_11ea_93bb_0242ac130202row5_col6\" class=\"data row5 col6\" >0.22</td>\n",
       "            </tr>\n",
       "            <tr>\n",
       "                        <th id=\"T_8b270f4e_8957_11ea_93bb_0242ac130202level0_row6\" class=\"row_heading level0 row6\" >Fare</th>\n",
       "                        <td id=\"T_8b270f4e_8957_11ea_93bb_0242ac130202row6_col0\" class=\"data row6 col0\" >0.013</td>\n",
       "                        <td id=\"T_8b270f4e_8957_11ea_93bb_0242ac130202row6_col1\" class=\"data row6 col1\" >0.26</td>\n",
       "                        <td id=\"T_8b270f4e_8957_11ea_93bb_0242ac130202row6_col2\" class=\"data row6 col2\" >-0.55</td>\n",
       "                        <td id=\"T_8b270f4e_8957_11ea_93bb_0242ac130202row6_col3\" class=\"data row6 col3\" >0.096</td>\n",
       "                        <td id=\"T_8b270f4e_8957_11ea_93bb_0242ac130202row6_col4\" class=\"data row6 col4\" >0.16</td>\n",
       "                        <td id=\"T_8b270f4e_8957_11ea_93bb_0242ac130202row6_col5\" class=\"data row6 col5\" >0.22</td>\n",
       "                        <td id=\"T_8b270f4e_8957_11ea_93bb_0242ac130202row6_col6\" class=\"data row6 col6\" >1</td>\n",
       "            </tr>\n",
       "    </tbody></table>"
      ],
      "text/plain": [
       "<pandas.io.formats.style.Styler at 0x7fac64067dd8>"
      ]
     },
     "execution_count": 25,
     "metadata": {},
     "output_type": "execute_result"
    }
   ],
   "source": [
    "#show correlations\n",
    "import matplotlib.pyplot as plt\n",
    "import seaborn as sns\n",
    "\n",
    "train_corr = train_data.corr()\n",
    "train_corr.style.background_gradient(cmap='coolwarm').set_precision(2)"
   ]
  },
  {
   "cell_type": "markdown",
   "metadata": {},
   "source": [
    "Sufficiently uncorrelated"
   ]
  },
  {
   "cell_type": "code",
   "execution_count": 26,
   "metadata": {},
   "outputs": [],
   "source": [
    "from sklearn.preprocessing import StandardScaler\n",
    "scaler = StandardScaler()\n",
    "scaler.fit(X_train)\n",
    "X_train_scaled = scaler.transform(X_train)\n",
    "X_test_scaled = scaler.transform(X_test)"
   ]
  },
  {
   "cell_type": "markdown",
   "metadata": {},
   "source": [
    "Try a logistic regression instead"
   ]
  },
  {
   "cell_type": "code",
   "execution_count": 27,
   "metadata": {},
   "outputs": [
    {
     "name": "stdout",
     "output_type": "stream",
     "text": [
      "0.8044692737430168\n",
      "[[94 16]\n",
      " [19 50]]\n",
      "              precision    recall  f1-score   support\n",
      "\n",
      "           0       0.83      0.85      0.84       110\n",
      "           1       0.76      0.72      0.74        69\n",
      "\n",
      "    accuracy                           0.80       179\n",
      "   macro avg       0.79      0.79      0.79       179\n",
      "weighted avg       0.80      0.80      0.80       179\n",
      "\n",
      "[0.85103306 0.85702479 0.87983281 0.88678451 0.86447811]\n",
      "0.8678306576739179\n"
     ]
    }
   ],
   "source": [
    "#let's try logistic regression here\n",
    "from sklearn.linear_model import LogisticRegression\n",
    "from sklearn.metrics import confusion_matrix\n",
    "from sklearn.metrics import classification_report\n",
    "from sklearn.model_selection import cross_val_score\n",
    "\n",
    "#instantiate and fit Logistic Regression model\n",
    "logreg = LogisticRegression(C = 0.05179474679231213, max_iter = 50, penalty = 'l2', solver = 'newton-cg')\n",
    "logreg.fit(X_train_scaled, y_train)\n",
    "logreg_preds = logreg.predict(X_test_scaled)\n",
    "print(logreg.score(X_test_scaled, y_test))\n",
    "print(confusion_matrix(y_test, logreg_preds))\n",
    "print(classification_report(y_test, logreg_preds))\n",
    "\n",
    "logreg_auc = cross_val_score(logreg, X_train_scaled, y_train, cv = 5, scoring = 'roc_auc')\n",
    "print(logreg_auc)\n",
    "print(np.mean(logreg_auc))"
   ]
  },
  {
   "cell_type": "code",
   "execution_count": 28,
   "metadata": {},
   "outputs": [
    {
     "data": {
      "image/png": "[encoded data removed]",
      "text/plain": [
       "<Figure size 432x288 with 1 Axes>"
      ]
     },
     "metadata": {
      "needs_background": "light"
     },
     "output_type": "display_data"
    }
   ],
   "source": [
    "#we can also plot this on an ROC curve\n",
    "from sklearn.metrics import roc_curve\n",
    "logreg_preds_proba = logreg.predict_proba(X_test_scaled)[:,1]\n",
    "fpr, tpr, thresholds = roc_curve(y_test, logreg_preds_proba)\n",
    "plt.plot([0,1], [0,1], 'k--')\n",
    "plt.plot(fpr, tpr, label = 'Logistic Regression')\n",
    "plt.xlabel('False Positive Rate')\n",
    "plt.ylabel('True Positive Rate')\n",
    "plt.title('Logistic Regression ROC curve')\n",
    "plt.show()"
   ]
  },
  {
   "cell_type": "code",
   "execution_count": 29,
   "metadata": {},
   "outputs": [
    {
     "name": "stdout",
     "output_type": "stream",
     "text": [
      "0.8499341238471674\n",
      "[0.85103306 0.85702479 0.87983281 0.88678451 0.86447811]\n",
      "0.8678306576739179\n"
     ]
    }
   ],
   "source": [
    "#with the ROC curve we can quantify the overall performance with AUC\n",
    "from sklearn.metrics import roc_auc_score\n",
    "print(roc_auc_score(y_test, logreg_preds_proba))\n",
    "#let's also cross validate this\n",
    "from sklearn.model_selection import cross_val_score\n",
    "cv_scores = cross_val_score(logreg, X_train_scaled, y_train, cv=5, scoring = 'roc_auc')\n",
    "print(cv_scores)\n",
    "print(np.mean(cv_scores))"
   ]
  },
  {
   "cell_type": "code",
   "execution_count": 30,
   "metadata": {},
   "outputs": [
    {
     "name": "stdout",
     "output_type": "stream",
     "text": [
      "Test score is 0.8212290502793296\n",
      "Tuned Random Forest Parameters: {'n_estimators': 350, 'max_features': 'sqrt', 'max_depth': 10}\n",
      "Best score is 0.824544469614892\n"
     ]
    }
   ],
   "source": [
    "#use grid search cv to test multiple values of random forest hyperparams\n",
    "from sklearn.model_selection import GridSearchCV\n",
    "from sklearn.model_selection import RandomizedSearchCV\n",
    "from sklearn.ensemble import RandomForestClassifier\n",
    "\n",
    "estimator_space = np.arange(50, 500, 50)\n",
    "depth_space = np.arange(10,110,10)\n",
    "features_space = ['sqrt']\n",
    "\n",
    "params = {'n_estimators' : estimator_space,\n",
    "         'max_depth' : depth_space,\n",
    "         'max_features' : features_space}\n",
    "rfmodel = RandomForestClassifier()\n",
    "rfmodel_cv = RandomizedSearchCV(rfmodel, params, cv = 5)\n",
    "rfmodel_cv.fit(X_train_scaled, y_train)\n",
    "print(\"Test score is {}\".format(rfmodel_cv.score(X_test_scaled, y_test)))\n",
    "print(\"Tuned Random Forest Parameters: {}\".format(rfmodel_cv.best_params_))\n",
    "print(\"Best score is {}\".format(rfmodel_cv.best_score_))"
   ]
  },
  {
   "cell_type": "code",
   "execution_count": 31,
   "metadata": {},
   "outputs": [
    {
     "name": "stdout",
     "output_type": "stream",
     "text": [
      "0.770949720670391\n",
      "[[94 16]\n",
      " [25 44]]\n",
      "[0.80764463 0.83367769 0.8862069  0.88552189 0.80671296]\n",
      "0.8439528118172319\n"
     ]
    }
   ],
   "source": [
    "#aaaand while they're both still running let's try a knn model for funzies\n",
    "from sklearn.neighbors import KNeighborsClassifier\n",
    "knn = KNeighborsClassifier()\n",
    "knn.fit(X_train_scaled, y_train)\n",
    "knn_preds = knn.predict(X_test_scaled)\n",
    "print(knn.score(X_test_scaled, y_test))\n",
    "print(confusion_matrix(y_test, knn_preds))\n",
    "\n",
    "knn_auc = cross_val_score(knn, X_train_scaled, y_train, cv = 5, scoring = 'roc_auc')\n",
    "print(knn_auc)\n",
    "print(np.mean(knn_auc))"
   ]
  },
  {
   "cell_type": "code",
   "execution_count": 32,
   "metadata": {},
   "outputs": [
    {
     "name": "stdout",
     "output_type": "stream",
     "text": [
      "0.8100558659217877\n",
      "[[95 15]\n",
      " [19 50]]\n"
     ]
    },
    {
     "name": "stderr",
     "output_type": "stream",
     "text": [
      "/opt/conda/lib/python3.6/site-packages/sklearn/svm/_base.py:947: ConvergenceWarning: Liblinear failed to converge, increase the number of iterations.\n",
      "  \"the number of iterations.\", ConvergenceWarning)\n",
      "/opt/conda/lib/python3.6/site-packages/sklearn/svm/_base.py:947: ConvergenceWarning: Liblinear failed to converge, increase the number of iterations.\n",
      "  \"the number of iterations.\", ConvergenceWarning)\n",
      "/opt/conda/lib/python3.6/site-packages/sklearn/svm/_base.py:947: ConvergenceWarning: Liblinear failed to converge, increase the number of iterations.\n",
      "  \"the number of iterations.\", ConvergenceWarning)\n",
      "/opt/conda/lib/python3.6/site-packages/sklearn/svm/_base.py:947: ConvergenceWarning: Liblinear failed to converge, increase the number of iterations.\n",
      "  \"the number of iterations.\", ConvergenceWarning)\n",
      "/opt/conda/lib/python3.6/site-packages/sklearn/svm/_base.py:947: ConvergenceWarning: Liblinear failed to converge, increase the number of iterations.\n",
      "  \"the number of iterations.\", ConvergenceWarning)\n"
     ]
    },
    {
     "name": "stdout",
     "output_type": "stream",
     "text": [
      "[0.85454545 0.85867769 0.87628004 0.87710438 0.86489899]\n",
      "0.8663013098593035\n"
     ]
    },
    {
     "name": "stderr",
     "output_type": "stream",
     "text": [
      "/opt/conda/lib/python3.6/site-packages/sklearn/svm/_base.py:947: ConvergenceWarning: Liblinear failed to converge, increase the number of iterations.\n",
      "  \"the number of iterations.\", ConvergenceWarning)\n"
     ]
    }
   ],
   "source": [
    "#let's also try a linear SVC\n",
    "from sklearn.svm import LinearSVC\n",
    "svm = LinearSVC()\n",
    "svm.fit(X_train_scaled, y_train)\n",
    "svm_preds = svm.predict(X_test_scaled)\n",
    "print(svm.score(X_test_scaled, y_test))\n",
    "print(confusion_matrix(y_test, svm_preds))\n",
    "\n",
    "svm_auc = cross_val_score(svm, X_train_scaled, y_train, cv = 5, scoring = 'roc_auc')\n",
    "print(svm_auc)\n",
    "print(np.mean(svm_auc))"
   ]
  },
  {
   "cell_type": "code",
   "execution_count": 33,
   "metadata": {},
   "outputs": [
    {
     "name": "stdout",
     "output_type": "stream",
     "text": [
      "0.8156424581005587\n",
      "[[101   9]\n",
      " [ 24  45]]\n",
      "[0.84979339 0.85330579 0.87941484 0.88888889 0.85353535]\n",
      "0.8649876508026978\n"
     ]
    }
   ],
   "source": [
    "#while that other nonsense is still running, let's try just an out of the box svc\n",
    "from sklearn.svm import SVC\n",
    "\n",
    "svcmod = SVC()\n",
    "svcmod.fit(X_train_scaled, y_train)\n",
    "svcmod_preds = svcmod.predict(X_test_scaled)\n",
    "print(svcmod.score(X_test_scaled, y_test))\n",
    "print(confusion_matrix(y_test, svcmod_preds))\n",
    "\n",
    "svcmod_auc = cross_val_score(svcmod, X_train_scaled, y_train, cv = 5, scoring = 'roc_auc')\n",
    "print(svcmod_auc)\n",
    "print(np.mean(svcmod_auc))"
   ]
  },
  {
   "cell_type": "code",
   "execution_count": 34,
   "metadata": {},
   "outputs": [
    {
     "name": "stdout",
     "output_type": "stream",
     "text": [
      "[LibSVM][LibSVM][LibSVM][LibSVM][LibSVM][LibSVM][LibSVM][LibSVM][LibSVM][LibSVM][LibSVM][LibSVM][LibSVM][LibSVM][LibSVM][LibSVM][LibSVM][LibSVM][LibSVM][LibSVM][LibSVM][LibSVM][LibSVM][LibSVM][LibSVM][LibSVM]Tuned Support Vector Machine Parameters: {'gamma': 0.01, 'verbose': True}\n",
      "Best score is 0.8300896286811781\n",
      "[LibSVM][LibSVM][LibSVM][LibSVM][LibSVM][LibSVM][LibSVM][LibSVM][LibSVM][LibSVM][LibSVM][LibSVM][LibSVM][LibSVM][LibSVM][LibSVM][LibSVM][LibSVM][LibSVM][LibSVM][LibSVM][LibSVM][LibSVM][LibSVM][LibSVM][LibSVM][LibSVM][LibSVM][LibSVM][LibSVM][LibSVM][LibSVM][LibSVM][LibSVM][LibSVM][LibSVM][LibSVM][LibSVM][LibSVM][LibSVM][LibSVM][LibSVM][LibSVM][LibSVM][LibSVM][LibSVM][LibSVM][LibSVM][LibSVM][LibSVM][LibSVM][LibSVM][LibSVM][LibSVM][LibSVM][LibSVM][LibSVM][LibSVM][LibSVM][LibSVM][LibSVM][LibSVM][LibSVM][LibSVM][LibSVM][LibSVM][LibSVM][LibSVM][LibSVM][LibSVM][LibSVM][LibSVM][LibSVM][LibSVM][LibSVM][LibSVM][LibSVM][LibSVM][LibSVM][LibSVM][LibSVM][LibSVM][LibSVM][LibSVM][LibSVM][LibSVM][LibSVM][LibSVM][LibSVM][LibSVM][LibSVM][LibSVM][LibSVM][LibSVM][LibSVM][LibSVM][LibSVM][LibSVM][LibSVM][LibSVM][LibSVM][LibSVM][LibSVM][LibSVM][LibSVM][LibSVM][LibSVM][LibSVM][LibSVM][LibSVM][LibSVM][LibSVM][LibSVM][LibSVM][LibSVM][LibSVM][LibSVM][LibSVM][LibSVM][LibSVM][LibSVM][LibSVM][LibSVM][LibSVM][LibSVM][LibSVM][LibSVM][LibSVM][LibSVM][LibSVM][0.84876033 0.80061983 0.86415883 0.87352694 0.84890572]\n",
      "0.8471943309795973\n"
     ]
    }
   ],
   "source": [
    "#use grid search cv to test multiple values of SVM hyperparams\n",
    "from sklearn.model_selection import RandomizedSearchCV\n",
    "\n",
    "\n",
    "hyperparams = {'gamma': [0.00001, 0.0001, 0.001, 0.01, 0.1],\n",
    "              'verbose': [True, False]}\n",
    "svcmodel = SVC(C = 10)\n",
    "svcmodel_cv = GridSearchCV(svcmodel, hyperparams, cv = 5)\n",
    "svcmodel_cv.fit(X_train_scaled, y_train)\n",
    "print(\"Tuned Support Vector Machine Parameters: {}\".format(svcmodel_cv.best_params_))\n",
    "print(\"Best score is {}\".format(svcmodel_cv.best_score_))\n",
    "\n",
    "svcmodel_auc = cross_val_score(svcmodel_cv, X_train_scaled, y_train, cv = 5, scoring = 'roc_auc')\n",
    "print(svcmodel_auc)\n",
    "print(np.mean(svcmodel_auc))"
   ]
  },
  {
   "cell_type": "code",
   "execution_count": 35,
   "metadata": {},
   "outputs": [
    {
     "name": "stdout",
     "output_type": "stream",
     "text": [
      "0.8044692737430168\n",
      "[[94 16]\n",
      " [19 50]]\n",
      "Tuned Stochastic Gradient Descent Parameters: {'alpha': 0.01, 'loss': 'log', 'penalty': 'l2'}\n",
      "Best score is 0.8174726681768935\n",
      "[0.86033058 0.85950413 0.88108673 0.88299663 0.86069024]\n",
      "0.8689216617586524\n"
     ]
    }
   ],
   "source": [
    "#for fun lets also try stochastic gradient descent\n",
    "from sklearn.linear_model import SGDClassifier\n",
    "\n",
    "parameters = {'alpha':[0.00001, 0.0001, 0.001, 0.01, 0.1, 1], \n",
    "             'loss':['hinge', 'log'], 'penalty':['l1', 'l2']}\n",
    "\n",
    "sgd = SGDClassifier()\n",
    "searcher = GridSearchCV(sgd, parameters)\n",
    "searcher.fit(X_train_scaled, y_train)\n",
    "sgd_preds = searcher.predict(X_test_scaled)\n",
    "print(searcher.score(X_test_scaled, y_test))\n",
    "print(confusion_matrix(y_test, sgd_preds))\n",
    "\n",
    "print(\"Tuned Stochastic Gradient Descent Parameters: {}\".format(searcher.best_params_))\n",
    "print(\"Best score is {}\".format(searcher.best_score_))\n",
    "\n",
    "sgd_auc = cross_val_score(searcher, X_train_scaled, y_train, cv = 5, scoring = 'roc_auc')\n",
    "print(sgd_auc)\n",
    "print(np.mean(sgd_auc))"
   ]
  },
  {
   "cell_type": "code",
   "execution_count": 36,
   "metadata": {},
   "outputs": [
    {
     "name": "stdout",
     "output_type": "stream",
     "text": [
      "0.8100558659217877\n",
      "[[98 12]\n",
      " [22 47]]\n",
      "[0.84669421 0.86157025 0.87502612 0.90677609 0.86321549]\n",
      "0.870656433720697\n"
     ]
    }
   ],
   "source": [
    "#here we also attempt an XGBoost Classification model\n",
    "import xgboost as xgb\n",
    "\n",
    "xgb_param_grid = {'learning_rate':[0.01, 0.1, 0.5, 0.9],\n",
    "                 'n_estimators':[200], \n",
    "                 'subsample':[0.3, 0.5, 0.9],\n",
    "                 'max_depth':[3,4,5,6]}\n",
    "Dmatrix = xgb.DMatrix(X_train_scaled, y_train)\n",
    "xg = xgb.XGBClassifier(learning_rate = 0.01, max_depth = 4, n_estimators = 200, subsample = 0.5)\n",
    "xg.fit(X_train_scaled, y_train)\n",
    "#print('Best parameters found: ', xg_cv.best_params_)\n",
    "#print('Best score: ', np.sqrt(np.abs(xg_cv.best_score_)))\n",
    "\n",
    "xg_preds = xg.predict(X_test_scaled)\n",
    "print(xg.score(X_test_scaled, y_test))\n",
    "print(confusion_matrix(y_test, xg_preds))\n",
    "\n",
    "xg_auc = cross_val_score(xg, X_train_scaled, y_train, cv = 5, scoring = 'roc_auc')\n",
    "print(xg_auc)\n",
    "print(np.mean(xg_auc))"
   ]
  },
  {
   "cell_type": "code",
   "execution_count": 37,
   "metadata": {},
   "outputs": [
    {
     "name": "stdout",
     "output_type": "stream",
     "text": [
      "Your submission was successfully saved!\n"
     ]
    }
   ],
   "source": [
    "#choose best model and predict on the hold out test set\n",
    "##XGBoost\n",
    "\n",
    "#prepare the training and test data\n",
    "\n",
    "final_scaled = scaler.transform(final)\n",
    "train_data_scaled = scaler.transform(X)\n",
    "#retrain SVM with all training data and optimized hyperparams\n",
    "xgb_full = xgb.XGBClassifier(learning_rate = 0.01, max_depth = 4, n_estimators = 200, subsample = 0.5)\n",
    "xgb_full.fit(train_data_scaled, y)\n",
    "xgb_full_preds = xgb_full.predict(final_scaled)\n",
    "#output the results\n",
    "output = pd.DataFrame({'PassengerId': output_key, 'Survived': xgb_full_preds})\n",
    "output.to_csv('myxgbsubmission.csv', index=False)\n",
    "print('Your submission was successfully saved!')"
   ]
  }
 ],
 "metadata": {
  "kernelspec": {
   "display_name": "Python 3",
   "language": "python",
   "name": "python3"
  },
  "language_info": {
   "codemirror_mode": {
    "name": "ipython",
    "version": 3
   },
   "file_extension": ".py",
   "mimetype": "text/x-python",
   "name": "python",
   "nbconvert_exporter": "python",
   "pygments_lexer": "ipython3",
   "version": "3.6.6"
  }
 },
 "nbformat": 4,
 "nbformat_minor": 4
}
